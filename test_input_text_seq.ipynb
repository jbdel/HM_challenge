{
 "cells": [
  {
   "cell_type": "code",
   "execution_count": 1,
   "metadata": {},
   "outputs": [],
   "source": [
    "import pandas as pd \n",
    "import numpy as np "
   ]
  },
  {
   "cell_type": "code",
   "execution_count": 2,
   "metadata": {},
   "outputs": [],
   "source": [
    "from datasets.hm_visual_bert import HMVisualBertDataset"
   ]
  },
  {
   "cell_type": "code",
   "execution_count": 3,
   "metadata": {},
   "outputs": [],
   "source": [
    "class Args(object):\n",
    "    def __init__(self, data_path):\n",
    "        self.data_path = data_path"
   ]
  },
  {
   "cell_type": "code",
   "execution_count": 4,
   "metadata": {},
   "outputs": [],
   "source": [
    "args = Args(data_path='data/VisualBert')"
   ]
  },
  {
   "cell_type": "code",
   "execution_count": 5,
   "metadata": {},
   "outputs": [],
   "source": [
    "train_ds = HMVisualBertDataset('train', args=args)\n",
    "dev_ds = HMVisualBertDataset('dev', args=args)\n",
    "test_ds = HMVisualBertDataset('test', args=args)"
   ]
  },
  {
   "cell_type": "code",
   "execution_count": 6,
   "metadata": {},
   "outputs": [
    {
     "output_type": "execute_result",
     "data": {
      "text/plain": "      id       img_name  label  \\\n0  42953  img/42953.png      0   \n1  23058  img/23058.png      0   \n2  13894  img/13894.png      0   \n3  37408  img/37408.png      0   \n4  82403  img/82403.png      0   \n\n                                                text  \\\n0   its their character not their color that matters   \n1  don't be afraid to love again everyone is not ...   \n2                           putting bows on your pet   \n3  i love everything and everybody! except for sq...   \n4  everybody loves chocolate chip cookies, even h...   \n\n                                        img_features  \\\n0  [[0.0, 0.0, 0.0, 0.0, 9.599549, 2.1708376, 13....   \n1  [[0.0, 0.0, 0.0, 0.0, 12.636864, 0.0, 7.682766...   \n2  [[0.0, 0.0, 0.0, 0.83242446, 5.372245, 2.75794...   \n3  [[0.0, 0.0, 0.0, 0.0, 11.302303, 0.0, 0.0, 0.0...   \n4  [[1.1141618, 0.0, 0.7985689, 0.0, 17.840979, 0...   \n\n                                       text_encoding  \n0  {'input_tokens': ['its', 'their', 'character',...  \n1  {'input_tokens': ['don', ''', 't', 'be', 'afra...  \n2  {'input_tokens': ['putting', 'bows', 'on', 'yo...  \n3  {'input_tokens': ['i', 'love', 'everything', '...  \n4  {'input_tokens': ['everybody', 'loves', 'choco...  ",
      "text/html": "<div>\n<style scoped>\n    .dataframe tbody tr th:only-of-type {\n        vertical-align: middle;\n    }\n\n    .dataframe tbody tr th {\n        vertical-align: top;\n    }\n\n    .dataframe thead th {\n        text-align: right;\n    }\n</style>\n<table border=\"1\" class=\"dataframe\">\n  <thead>\n    <tr style=\"text-align: right;\">\n      <th></th>\n      <th>id</th>\n      <th>img_name</th>\n      <th>label</th>\n      <th>text</th>\n      <th>img_features</th>\n      <th>text_encoding</th>\n    </tr>\n  </thead>\n  <tbody>\n    <tr>\n      <th>0</th>\n      <td>42953</td>\n      <td>img/42953.png</td>\n      <td>0</td>\n      <td>its their character not their color that matters</td>\n      <td>[[0.0, 0.0, 0.0, 0.0, 9.599549, 2.1708376, 13....</td>\n      <td>{'input_tokens': ['its', 'their', 'character',...</td>\n    </tr>\n    <tr>\n      <th>1</th>\n      <td>23058</td>\n      <td>img/23058.png</td>\n      <td>0</td>\n      <td>don't be afraid to love again everyone is not ...</td>\n      <td>[[0.0, 0.0, 0.0, 0.0, 12.636864, 0.0, 7.682766...</td>\n      <td>{'input_tokens': ['don', ''', 't', 'be', 'afra...</td>\n    </tr>\n    <tr>\n      <th>2</th>\n      <td>13894</td>\n      <td>img/13894.png</td>\n      <td>0</td>\n      <td>putting bows on your pet</td>\n      <td>[[0.0, 0.0, 0.0, 0.83242446, 5.372245, 2.75794...</td>\n      <td>{'input_tokens': ['putting', 'bows', 'on', 'yo...</td>\n    </tr>\n    <tr>\n      <th>3</th>\n      <td>37408</td>\n      <td>img/37408.png</td>\n      <td>0</td>\n      <td>i love everything and everybody! except for sq...</td>\n      <td>[[0.0, 0.0, 0.0, 0.0, 11.302303, 0.0, 0.0, 0.0...</td>\n      <td>{'input_tokens': ['i', 'love', 'everything', '...</td>\n    </tr>\n    <tr>\n      <th>4</th>\n      <td>82403</td>\n      <td>img/82403.png</td>\n      <td>0</td>\n      <td>everybody loves chocolate chip cookies, even h...</td>\n      <td>[[1.1141618, 0.0, 0.7985689, 0.0, 17.840979, 0...</td>\n      <td>{'input_tokens': ['everybody', 'loves', 'choco...</td>\n    </tr>\n  </tbody>\n</table>\n</div>"
     },
     "metadata": {},
     "execution_count": 6
    }
   ],
   "source": [
    "train_ds.df.head()"
   ]
  },
  {
   "cell_type": "code",
   "execution_count": 11,
   "metadata": {},
   "outputs": [],
   "source": [
    "train_tokens_df = train_ds.df['text_encoding']"
   ]
  },
  {
   "cell_type": "code",
   "execution_count": 12,
   "metadata": {},
   "outputs": [],
   "source": [
    "train_tokens_num_df = train_tokens_df.map(lambda dic: len(dic['input_tokens']))"
   ]
  },
  {
   "cell_type": "code",
   "execution_count": 13,
   "metadata": {},
   "outputs": [
    {
     "output_type": "execute_result",
     "data": {
      "text/plain": "0        8\n1       14\n2        5\n3       12\n4        8\n        ..\n8495     6\n8496    19\n8497    33\n8498    31\n8499    13\nName: text_encoding, Length: 8500, dtype: int64"
     },
     "metadata": {},
     "execution_count": 13
    }
   ],
   "source": [
    "train_tokens_num_df"
   ]
  },
  {
   "cell_type": "code",
   "execution_count": 14,
   "metadata": {},
   "outputs": [
    {
     "output_type": "execute_result",
     "data": {
      "text/plain": "(128,)"
     },
     "metadata": {},
     "execution_count": 14
    }
   ],
   "source": [
    "train_tokens_df[0]['input_ids'].shape"
   ]
  },
  {
   "cell_type": "code",
   "execution_count": 15,
   "metadata": {},
   "outputs": [
    {
     "output_type": "execute_result",
     "data": {
      "text/plain": "Series([], Name: text_encoding, dtype: int64)"
     },
     "metadata": {},
     "execution_count": 15
    }
   ],
   "source": [
    "train_tokens_num_df[train_tokens_num_df > 128]"
   ]
  },
  {
   "cell_type": "code",
   "execution_count": 18,
   "metadata": {},
   "outputs": [
    {
     "output_type": "execute_result",
     "data": {
      "text/plain": "Series([], Name: text_encoding, dtype: int64)"
     },
     "metadata": {},
     "execution_count": 18
    }
   ],
   "source": [
    "dev_tokens_df = dev_ds.df['text_encoding']\n",
    "dev_tokens_num_df = dev_tokens_df.map(lambda dic: len(dic['input_tokens']))\n",
    "dev_tokens_num_df[dev_tokens_num_df > 128]"
   ]
  },
  {
   "cell_type": "code",
   "execution_count": 19,
   "metadata": {},
   "outputs": [
    {
     "output_type": "execute_result",
     "data": {
      "text/plain": "Series([], Name: text_encoding, dtype: int64)"
     },
     "metadata": {},
     "execution_count": 19
    }
   ],
   "source": [
    "test_tokens_df = test_ds.df['text_encoding']\n",
    "test_tokens_num_df = test_tokens_df.map(lambda dic: len(dic['input_tokens']))\n",
    "test_tokens_num_df[test_tokens_num_df > 128]"
   ]
  }
 ],
 "metadata": {
  "language_info": {
   "codemirror_mode": {
    "name": "ipython",
    "version": 3
   },
   "file_extension": ".py",
   "mimetype": "text/x-python",
   "name": "python",
   "nbconvert_exporter": "python",
   "pygments_lexer": "ipython3",
   "version": "3.8.3-final"
  },
  "orig_nbformat": 2,
  "kernelspec": {
   "name": "python38364bit1b963fb927de4272acc391caa687587d",
   "display_name": "Python 3.8.3 64-bit"
  }
 },
 "nbformat": 4,
 "nbformat_minor": 2
}